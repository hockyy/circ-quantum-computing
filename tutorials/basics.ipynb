{
    "cells": [
        {
            "cell_type": "markdown",
            "metadata": {
                "id": "7FV_m2u2Hny8"
            },
            "source": [
                "##### Copyright 2020 The Cirq Developers"
            ]
        },
        {
            "cell_type": "code",
            "execution_count": 1,
            "metadata": {
                "cellView": "form",
                "id": "2XSh1-J7HrcU"
            },
            "outputs": [],
            "source": [
                "#@title Licensed under the Apache License, Version 2.0 (the \"License\");\n",
                "# you may not use this file except in compliance with the License.\n",
                "# You may obtain a copy of the License at\n",
                "#\n",
                "# https://www.apache.org/licenses/LICENSE-2.0\n",
                "#\n",
                "# Unless required by applicable law or agreed to in writing, software\n",
                "# distributed under the License is distributed on an \"AS IS\" BASIS,\n",
                "# WITHOUT WARRANTIES OR CONDITIONS OF ANY KIND, either express or implied.\n",
                "# See the License for the specific language governing permissions and\n",
                "# limitations under the License."
            ]
        },
        {
            "cell_type": "markdown",
            "metadata": {
                "id": "Me7G0WVTHwHg"
            },
            "source": [
                "# Cirq basics"
            ]
        },
        {
            "cell_type": "markdown",
            "metadata": {
                "id": "aAFfDwu7IFyx"
            },
            "source": [
                "<table class=\"tfo-notebook-buttons\" align=\"left\">\n",
                "  <td>\n",
                "    <a target=\"_blank\" href=\"https://quantumai.google/cirq/tutorials/basics\"><img src=\"https://quantumai.google/site-assets/images/buttons/quantumai_logo_1x.png\" />View on QuantumAI</a>\n",
                "  </td>\n",
                "  <td>\n",
                "    <a target=\"_blank\" href=\"https://colab.research.google.com/github/quantumlib/Cirq/blob/master/docs/tutorials/basics.ipynb\"><img src=\"https://quantumai.google/site-assets/images/buttons/colab_logo_1x.png\" />Run in Google Colab</a>\n",
                "  </td>\n",
                "  <td>\n",
                "    <a target=\"_blank\" href=\"https://github.com/quantumlib/Cirq/blob/master/docs/tutorials/basics.ipynb\"><img src=\"https://quantumai.google/site-assets/images/buttons/github_logo_1x.png\" />View source on GitHub</a>\n",
                "  </td>\n",
                "  <td>\n",
                "    <a href=\"https://storage.googleapis.com/tensorflow_docs/Cirq/docs/tutorials/basics.ipynb\"><img src=\"https://quantumai.google/site-assets/images/buttons/download_icon_1x.png\" />Download notebook</a>\n",
                "  </td>\n",
                "</table>"
            ]
        },
        {
            "cell_type": "markdown",
            "metadata": {
                "id": "67gUU740MSXd"
            },
            "source": [
                "This tutorial will teach the basics of how to use Cirq.  This tutorial will walk through how to use qubits, gates, and operations to create and simulate your first quantum circuit using Cirq.  It will briefly introduce devices, unitary matrices, decompositions, and transformers.\n",
                "\n",
                "This tutorial isn’t a quantum computing 101 tutorial, we assume familiarity of quantum computing at about the level of the textbook “Quantum Computation and Quantum Information” by Nielsen and Chuang.\n",
                "\n",
                "For more in-depth examples closer to those found in current work, check out our tutorials page."
            ]
        },
        {
            "cell_type": "markdown",
            "metadata": {
                "id": "1dOjJlgrNUuz"
            },
            "source": [
                "To begin, please follow the instructions for [installing Cirq](../install.md).\n",
                "\n",
                "Note: this notebook relies on unreleased Cirq features. If you want to try these features, make sure you install cirq via `pip install cirq --pre`."
            ]
        },
        {
            "cell_type": "code",
            "execution_count": 2,
            "metadata": {
                "id": "bd9529db1c0b"
            },
            "outputs": [],
            "source": [
                "try:\n",
                "    import cirq\n",
                "except ImportError:\n",
                "    print(\"installing cirq...\")\n",
                "    !pip install --quiet cirq\n",
                "    import cirq\n",
                "    print(\"installed cirq.\")"
            ]
        },
        {
            "cell_type": "markdown",
            "metadata": {
                "id": "xr-MMoXgNsUQ"
            },
            "source": [
                "## Qubits\n",
                "\n",
                "The first part of creating a quantum circuit is to define a set of qubits (also known as a quantum registers) to act on.\n",
                "\n",
                "Cirq has three main ways of defining qubits:\n",
                "\n",
                "*   `cirq.NamedQubit`: used to label qubits by an abstract name\n",
                "*   `cirq.LineQubit`: qubits labelled by number in a linear array \n",
                "*   `cirq.GridQubit`: qubits labelled by two numbers in a rectangular lattice.\n",
                "\n",
                "Here are some examples of defining each type of qubit."
            ]
        },
        {
            "cell_type": "code",
            "execution_count": 3,
            "metadata": {
                "id": "PsgSo-H0Os8X"
            },
            "outputs": [],
            "source": [
                "import cirq_google\n",
                "\n",
                "# Using named qubits can be useful for abstract algorithms\n",
                "# as well as algorithms not yet mapped onto hardware.\n",
                "q0 = cirq.NamedQubit('source')\n",
                "q1 = cirq.NamedQubit('target')\n",
                "\n",
                "# Line qubits can be created individually\n",
                "q3 = cirq.LineQubit(3)\n",
                "\n",
                "# Or created in a range\n",
                "# This will create LineQubit(0), LineQubit(1), LineQubit(2)\n",
                "q0, q1, q2 = cirq.LineQubit.range(3)\n",
                "\n",
                "# Grid Qubits can also be referenced individually\n",
                "q4_5 = cirq.GridQubit(4,5)\n",
                "\n",
                "# Or created in bulk in a square\n",
                "# This will create 16 qubits from (0,0) to (3,3)\n",
                "qubits = cirq.GridQubit.square(4)"
            ]
        },
        {
            "cell_type": "markdown",
            "metadata": {
                "id": "4zE6AutyQhQ6"
            },
            "source": [
                "There are also pre-packaged sets of qubits called [Devices](../devices.md).  These are qubits along with a set of rules of how they can be used.  A `cirq.Device` can be used to apply adjacency rules and other hardware constraints to a quantum circuit.  For our example, we will use the `cirq_google.Sycamore` device that comes with cirq.  It is a 2x11 grid that mimics early hardware released by Google."
            ]
        },
        {
            "cell_type": "markdown",
            "metadata": {},
            "source": [
                "Sycamore itu quantum processor yang dibuat Google, ada hardwarenya, tapi ini hanya simulasi dari *device* aslinya"
            ]
        },
        {
            "cell_type": "code",
            "execution_count": 4,
            "metadata": {
                "id": "B0Dwgu-lQLpq"
            },
            "outputs": [
                {
                    "name": "stdout",
                    "output_type": "stream",
                    "text": [
                        "                                             (0, 5)───(0, 6)\n",
                        "                                             │        │\n",
                        "                                             │        │\n",
                        "                                    (1, 4)───(1, 5)───(1, 6)───(1, 7)\n",
                        "                                    │        │        │        │\n",
                        "                                    │        │        │        │\n",
                        "                           (2, 3)───(2, 4)───(2, 5)───(2, 6)───(2, 7)───(2, 8)\n",
                        "                           │        │        │        │        │        │\n",
                        "                           │        │        │        │        │        │\n",
                        "                  (3, 2)───(3, 3)───(3, 4)───(3, 5)───(3, 6)───(3, 7)───(3, 8)───(3, 9)\n",
                        "                  │        │        │        │        │        │        │        │\n",
                        "                  │        │        │        │        │        │        │        │\n",
                        "         (4, 1)───(4, 2)───(4, 3)───(4, 4)───(4, 5)───(4, 6)───(4, 7)───(4, 8)───(4, 9)\n",
                        "         │        │        │        │        │        │        │        │\n",
                        "         │        │        │        │        │        │        │        │\n",
                        "(5, 0)───(5, 1)───(5, 2)───(5, 3)───(5, 4)───(5, 5)───(5, 6)───(5, 7)───(5, 8)\n",
                        "         │        │        │        │        │        │        │\n",
                        "         │        │        │        │        │        │        │\n",
                        "         (6, 1)───(6, 2)───(6, 3)───(6, 4)───(6, 5)───(6, 6)───(6, 7)\n",
                        "                  │        │        │        │        │\n",
                        "                  │        │        │        │        │\n",
                        "                  (7, 2)───(7, 3)───(7, 4)───(7, 5)───(7, 6)\n",
                        "                           │        │        │\n",
                        "                           │        │        │\n",
                        "                           (8, 3)───(8, 4)───(8, 5)\n",
                        "                                    │\n",
                        "                                    │\n",
                        "                                    (9, 4)\n"
                    ]
                }
            ],
            "source": [
                "print(cirq_google.Sycamore)"
            ]
        },
        {
            "cell_type": "markdown",
            "metadata": {
                "id": "j1QTjyxLSe5c"
            },
            "source": [
                "## Gates and operations\n",
                "\n",
                "The next step is to use the qubits to create operations that can be used in our circuit.  Cirq has two concepts that are important to understand here:\n",
                "\n",
                "*   A `Gate` is an effect that can be applied to a set of qubits.  \n",
                "*   An `Operation` is a gate applied to a set of qubits.\n",
                "\n",
                "For instance, `cirq.H` is the quantum [Hadamard](https://en.wikipedia.org/wiki/Quantum_logic_gate#Hadamard_(H)_gate) and is a `Gate` object.  `cirq.H(cirq.LineQubit(1))` is an `Operation` object and is the Hadamard gate applied to a specific qubit (line qubit number 1).\n",
                "\n",
                "Many textbook gates are included within cirq.  `cirq.X`, `cirq.Y`, and `cirq.Z` refer to the single-qubit Pauli gates.  `cirq.CZ`, `cirq.CNOT`, `cirq.SWAP` are a few of the common two-qubit gates.  `cirq.measure` is a macro to apply a `MeasurementGate` to a set of qubits.  You can find more, as well as instructions on how to creats your own custom gates, on the [Gates documentation](../gates.ipynb) page.\n",
                "\n",
                "Many arithmetic operations can also be applied to gates.  Here are some examples:"
            ]
        },
        {
            "cell_type": "code",
            "execution_count": 5,
            "metadata": {
                "id": "wDW-yU-fesDl"
            },
            "outputs": [],
            "source": [
                "# Example gates\n",
                "not_gate = cirq.CNOT\n",
                "pauli_z = cirq.Z\n",
                "\n",
                "# Using exponentiation to get square root gates\n",
                "sqrt_x_gate = cirq.X**0.5\n",
                "\n",
                "# Some gates can also take parameters\n",
                "sqrt_sqrt_y = cirq.YPowGate(exponent=0.25)\n",
                "\n",
                "# Example operations\n",
                "q0, q1 = cirq.LineQubit.range(2)\n",
                "z_op = cirq.Z(q0)\n",
                "not_op = cirq.CNOT(q0, q1)\n",
                "sqrt_iswap_op = cirq.SQRT_ISWAP(q0, q1)"
            ]
        },
        {
            "cell_type": "markdown",
            "metadata": {
                "id": "BnBGLMVvWVkz"
            },
            "source": [
                "## Circuits and moments\n",
                "\n",
                "We are now ready to construct a quantum circuit.  A `Circuit` is a collection of `Moment`s. A `Moment` is a collection of `Operation`s that all act during the same abstract time slice.  Each `Operation` must have a disjoint set of qubits from the other `Operation`s in the `Moment`.  A `Moment` can be thought of as a vertical slice of a quantum circuit diagram.\n",
                "\n",
                "Circuits can be constructed in several different ways.  By default, cirq will attempt to slide your operation into the earliest possible `Moment` when you insert it.\n"
            ]
        },
        {
            "cell_type": "code",
            "execution_count": 28,
            "metadata": {
                "id": "HEuqEZcXkz3Q"
            },
            "outputs": [
                {
                    "name": "stdout",
                    "output_type": "stream",
                    "text": [
                        "0: ───H───Z───×───×───────\n",
                        "              │   │\n",
                        "1: ───H───Z───┼───×───×───\n",
                        "              │       │\n",
                        "2: ───H───────×───────×───\n"
                    ]
                }
            ],
            "source": [
                "circuit = cirq.Circuit()\n",
                "# You can create a circuit by appending to it\n",
                "line_qubits = cirq.LineQubit.range(3)\n",
                "circuit.append(cirq.H(q) for q in line_qubits)\n",
                "circuit.append(cirq.Z(line_qubits[0]))\n",
                "\n",
                "circuit.append(cirq.Z(line_qubits[1]))\n",
                "circuit.append(cirq.SWAP(line_qubits[0], line_qubits[2]))\n",
                "circuit.append(cirq.SWAP(line_qubits[0], line_qubits[1]))\n",
                "circuit.append(cirq.SWAP(line_qubits[2], line_qubits[1]))\n",
                "\n",
                "# All of the gates are put into the same Moment since none overlap\n",
                "print(circuit)"
            ]
        },
        {
            "cell_type": "code",
            "execution_count": 7,
            "metadata": {
                "id": "Lbez4guQl31P"
            },
            "outputs": [
                {
                    "name": "stdout",
                    "output_type": "stream",
                    "text": [
                        "0: ───×───────────\n",
                        "      │\n",
                        "1: ───×───×───────\n",
                        "          │\n",
                        "2: ───────×───×───\n",
                        "              │\n",
                        "3: ───────────×───\n"
                    ]
                }
            ],
            "source": [
                "# We can also create a circuit directly as well:\n",
                "print(cirq.Circuit(cirq.SWAP(q, q+1) for q in cirq.LineQubit.range(3)))"
            ]
        },
        {
            "cell_type": "markdown",
            "metadata": {
                "id": "3FC9bdlXmShh"
            },
            "source": [
                "Sometimes, you may not want cirq to automatically shift operations all the way to the left.  To construct a circuit without doing this, you can create the circuit moment-by-moment or use a different `InsertStrategy`, explained more in the [Circuit documentation](../circuits.ipynb)."
            ]
        },
        {
            "cell_type": "code",
            "execution_count": 8,
            "metadata": {
                "id": "4AEahodTnYiI"
            },
            "outputs": [
                {
                    "name": "stdout",
                    "output_type": "stream",
                    "text": [
                        "0: ───H───────────\n",
                        "\n",
                        "1: ───────H───────\n",
                        "\n",
                        "2: ───────────H───\n"
                    ]
                }
            ],
            "source": [
                "# Creates each gate in a separate moment.\n",
                "print(cirq.Circuit(cirq.Moment([cirq.H(q)]) for q in cirq.LineQubit.range(3)))"
            ]
        },
        {
            "cell_type": "markdown",
            "metadata": {
                "id": "j406AKYsobpq"
            },
            "source": [
                "### Circuits and devices\n",
                "\n",
                "One important consideration when using real quantum devices is that there are often hardware constraints on the circuit.  Creating a circuit with a `Device` will allow you to capture some of these requirements.  `Device`s can be used to validate your circuit to make sure that it contains no illegal operations.\n",
                "\n",
                "Let's look at an example using the Sycamore Device:"
            ]
        },
        {
            "cell_type": "code",
            "execution_count": 22,
            "metadata": {
                "id": "9UV-dXJOpy8B"
            },
            "outputs": [
                {
                    "name": "stdout",
                    "output_type": "stream",
                    "text": [
                        "(5, 5): ───SYC───\n",
                        "           │\n",
                        "(5, 6): ───SYC───\n",
                        "Operation does not use valid qubit target: SYC((5, 6), (4, 5)).\n",
                        "(4, 5): ───SYC───\n",
                        "           │\n",
                        "(5, 6): ───SYC───\n"
                    ]
                }
            ],
            "source": [
                "q0 = cirq.GridQubit(5, 6)\n",
                "q1 = cirq.GridQubit(5, 5)\n",
                "q2 = cirq.GridQubit(4, 5)\n",
                "adjacent_op = cirq_google.SYC(q0, q1)\n",
                "nonadjacent_op = cirq_google.SYC(q0, q2)\n",
                "\n",
                "# A working circuit for the Sycamore device raises no issues.\n",
                "working_circuit = cirq.Circuit()\n",
                "working_circuit.append(adjacent_op)\n",
                "valid = cirq_google.Sycamore.validate_circuit(working_circuit)\n",
                "print(working_circuit)\n",
                "\n",
                "# A circuit using invalid operations.\n",
                "bad_circuit = cirq.Circuit()\n",
                "bad_circuit.append(nonadjacent_op)\n",
                "try:\n",
                "  cirq_google.Sycamore.validate_circuit(bad_circuit)\n",
                "except ValueError as e:\n",
                "  print(e)\n",
                "print(bad_circuit)\n"
            ]
        },
        {
            "cell_type": "markdown",
            "metadata": {
                "id": "xZ68bWEjoMKt"
            },
            "source": [
                "## Simulation\n",
                "\n",
                "The results of the application of a quantum circuit can be calculated by a `Simulator`.  Cirq comes bundled with a simulator that can calculate the results of circuits up to about a limit of 20 qubits.  It can be initialized with `cirq.Simulator()`.\n",
                "\n",
                "There are two different approaches to using a simulator:\n",
                "\n",
                "*   `simulate()`:  Since we are classically simulating a circuit, a simulator can directly access and view the resulting wave function.  This is useful for debugging, learning, and understanding how circuits will function.  \n",
                "*   `run()`:  When using actual quantum devices, we can only access the end result of a computation and must sample the results to get a distribution of results.  Running the simulator as a sampler mimics this behavior and only returns bit strings as output.\n",
                "\n",
                "Let's try to simulate a 2-qubit \"Bell State\":"
            ]
        },
        {
            "cell_type": "code",
            "execution_count": 44,
            "metadata": {
                "id": "AwC4SL6CHpXm"
            },
            "outputs": [
                {
                    "name": "stdout",
                    "output_type": "stream",
                    "text": [
                        "0: ───H───@───\n",
                        "          │\n",
                        "1: ───────X───\n",
                        "Simulate the circuit:\n",
                        "measurements: (no measurements)\n",
                        "\n",
                        "qubits: (cirq.LineQubit(0), cirq.LineQubit(1))\n",
                        "output vector: 0.707|00⟩ + 0.707|11⟩\n",
                        "\n",
                        "phase:\n",
                        "output vector: |⟩\n",
                        "\n",
                        "0: ───H───@───M('result')───M('a')───\n",
                        "          │   │\n",
                        "1: ───────X───M─────────────M('b')───\n",
                        "Sample the circuit:\n",
                        "Counter({0: 5006, 1: 4994})\n",
                        "Counter({0: 5006, 1: 4994})\n",
                        "Counter({0: 5006, 3: 4994})\n"
                    ]
                }
            ],
            "source": [
                "# Create a circuit to generate a Bell State:\n",
                "# 1/sqrt(2) * ( |00⟩ + |11⟩ )\n",
                "bell_circuit = cirq.Circuit()\n",
                "q0, q1 = cirq.LineQubit.range(2)\n",
                "bell_circuit.append(cirq.H(q0))\n",
                "bell_circuit.append(cirq.CNOT(q0,q1))\n",
                "print(bell_circuit)\n",
                "\n",
                "# Initialize Simulator\n",
                "s=cirq.Simulator()\n",
                "\n",
                "print('Simulate the circuit:')\n",
                "results=s.simulate(bell_circuit)\n",
                "print(results)\n",
                "print()\n",
                "\n",
                "# For sampling, we need to add a measurement at the end\n",
                "bell_circuit.append(cirq.measure(q0, q1, key='result'))\n",
                "bell_circuit.append(cirq.measure(q0, key='a'))\n",
                "bell_circuit.append(cirq.measure(q1, key='b'))\n",
                "print(bell_circuit)\n",
                "\n",
                "print('Sample the circuit:')\n",
                "samples=s.run(bell_circuit, repetitions=10000)\n",
                "# Print a histogram of results\n",
                "print(samples.histogram(key='a'))\n",
                "print(samples.histogram(key='b'))\n",
                "print(samples.histogram(key='result'))"
            ]
        },
        {
            "cell_type": "markdown",
            "metadata": {
                "id": "06Q_7vlQSu4Z"
            },
            "source": [
                "### Using parameter sweeps\n",
                "\n",
                "Cirq circuits allow for gates to have symbols as free parameters within the circuit.  This is especially useful for variational algorithms, which vary parameters within the circuit in order to optimize a cost function, but it can be useful in a variety of circumstances.\n",
                "\n",
                "For parameters, cirq uses the library `sympy` to add `sympy.Symbol` as parameters to gates and operations.  \n",
                "\n",
                "Once the circuit is complete, you can fill in the possible values of each of these parameters with a `Sweep`.  There are several possibilities that can be used as a sweep:\n",
                "\n",
                "*   `cirq.Points`: A list of manually specified values for one specific symbol as a sequence of floats\n",
                "*   `cirq.Linspace`: A linear sweep from a starting value to an ending value.\n",
                "*   `cirq.ListSweep`: A list of manually specified values for several different symbols, specified as a list of dictionaries.\n",
                "*   `cirq.Zip` and `cirq.Product`: Sweeps can be combined list-wise by zipping them together or through their Cartesian product.\n",
                "\n",
                "A parameterized circuit and sweep together can be run using the simulator or other sampler by changing `run()` to `run_sweep()` and adding the sweep as a parameter.\n",
                "\n",
                "Here is an example of sweeping an exponent of a X gate:"
            ]
        },
        {
            "cell_type": "code",
            "execution_count": 11,
            "metadata": {
                "id": "ElyizofbLGq9"
            },
            "outputs": [
                {
                    "data": {
                        "text/plain": [
                            "<matplotlib.collections.PathCollection at 0x16e22d6d0>"
                        ]
                    },
                    "execution_count": 11,
                    "metadata": {},
                    "output_type": "execute_result"
                },
                {
                    "data": {
                        "image/png": "[encoded data removed]",
                        "text/plain": [
                            "<Figure size 432x288 with 1 Axes>"
                        ]
                    },
                    "metadata": {
                        "needs_background": "light"
                    },
                    "output_type": "display_data"
                }
            ],
            "source": [
                "import matplotlib.pyplot as plt\n",
                "import sympy\n",
                "\n",
                "# Perform an X gate with variable exponent\n",
                "q = cirq.GridQubit(1,1)\n",
                "circuit = cirq.Circuit(cirq.X(q) ** sympy.Symbol('t'),\n",
                "                       cirq.measure(q, key='m'))\n",
                "\n",
                "# Sweep exponent from zero (off) to one (on) and back to two (off)\n",
                "param_sweep = cirq.Linspace('t', start=0, stop=2, length=200)\n",
                "\n",
                "# Simulate the sweep\n",
                "s = cirq.Simulator()\n",
                "trials = s.run_sweep(circuit, param_sweep, repetitions=1000)\n",
                "\n",
                "# Plot all the results\n",
                "x_data = [trial.params['t'] for trial in trials]\n",
                "y_data = [trial.histogram(key='m')[1] / 1000.0 for trial in trials]\n",
                "plt.scatter('t','p', data={'t': x_data, 'p': y_data})\n"
            ]
        },
        {
            "cell_type": "markdown",
            "metadata": {
                "id": "M8oLYwusz4XE"
            },
            "source": [
                "## Unitary matrices and decompositions\n",
                "\n",
                "Most quantum operations have a unitary matrix representation.  This matrix can be accessed by applying `cirq.unitary()`.  This can be applied to gates, operations, and circuits that support this protocol and will return the unitary matrix that represents the object."
            ]
        },
        {
            "cell_type": "code",
            "execution_count": 12,
            "metadata": {
                "id": "xn9nnBA70s23"
            },
            "outputs": [
                {
                    "name": "stdout",
                    "output_type": "stream",
                    "text": [
                        "Unitary of the X gate\n",
                        "[[0.+0.j 1.+0.j]\n",
                        " [1.+0.j 0.+0.j]]\n",
                        "Unitary of SWAP operator on two qubits.\n",
                        "[[1.+0.j 0.+0.j 0.+0.j 0.+0.j]\n",
                        " [0.+0.j 0.+0.j 1.+0.j 0.+0.j]\n",
                        " [0.+0.j 1.+0.j 0.+0.j 0.+0.j]\n",
                        " [0.+0.j 0.+0.j 0.+0.j 1.+0.j]]\n",
                        "Unitary of a sample circuit\n",
                        "[[0.+0.j 0.+0.j 1.+0.j 0.+0.j]\n",
                        " [1.+0.j 0.+0.j 0.+0.j 0.+0.j]\n",
                        " [0.+0.j 0.+0.j 0.+0.j 1.+0.j]\n",
                        " [0.+0.j 1.+0.j 0.+0.j 0.+0.j]]\n"
                    ]
                }
            ],
            "source": [
                "print('Unitary of the X gate')\n",
                "print(cirq.unitary(cirq.X))\n",
                "\n",
                "print('Unitary of SWAP operator on two qubits.')\n",
                "q0, q1 = cirq.LineQubit.range(2)\n",
                "print(cirq.unitary(cirq.SWAP(q0, q1)))\n",
                "\n",
                "print('Unitary of a sample circuit')\n",
                "print(cirq.unitary(cirq.Circuit(cirq.X(q0), cirq.SWAP(q0, q1))))"
            ]
        },
        {
            "cell_type": "markdown",
            "metadata": {
                "id": "Ls6Tnx90Y94Q"
            },
            "source": [
                "### Decompositions \n",
                "\n",
                "Many gates can be decomposed into an equivalent circuit with simpler operations and gates.  This is called decomposition and can be accomplished with the `cirq.decompose` protocol.  \n",
                "\n",
                "For instance, a Hadamard H gate can be decomposed into X and Y gates:"
            ]
        },
        {
            "cell_type": "code",
            "execution_count": 13,
            "metadata": {
                "id": "u8JwZaAUfbSv"
            },
            "outputs": [
                {
                    "name": "stdout",
                    "output_type": "stream",
                    "text": [
                        "[(cirq.Y**0.5).on(cirq.LineQubit(0)), cirq.XPowGate(global_shift=-0.25).on(cirq.LineQubit(0))]\n"
                    ]
                }
            ],
            "source": [
                "print(cirq.decompose(cirq.H(cirq.LineQubit(0))))"
            ]
        },
        {
            "cell_type": "markdown",
            "metadata": {
                "id": "B8ciZZSSf2jb"
            },
            "source": [
                "Another example is the 3-qubit Toffoli gate, which is equivalent to a controlled-controlled-X gate.  Many devices do not support a three qubit gate, so it is important "
            ]
        },
        {
            "cell_type": "code",
            "execution_count": 14,
            "metadata": {
                "id": "bbjRWlzjgPwf"
            },
            "outputs": [
                {
                    "name": "stdout",
                    "output_type": "stream",
                    "text": [
                        "0: ───T────────────────@─────────────────────────────────@─────────────────────────────@────────────────────────────@───────────────────────────────────────\n",
                        "                       │                                 │                             │                            │\n",
                        "1: ───T───────Y^-0.5───@───Y^0.5────@───T^-1────Y^-0.5───@────────Y^0.5───@───Y^-0.5───@──────Y^0.5────@───Y^-0.5───@──────Y^0.5────@───────────────────────\n",
                        "                                    │                                     │                            │                            │\n",
                        "2: ───Y^0.5───X────────T───Y^-0.5───@───Y^0.5───T────────Y^-0.5───────────@───Y^0.5────T^-1───Y^-0.5───@───Y^0.5────T^-1───Y^-0.5───@───Y^0.5───Y^0.5───X───\n"
                    ]
                }
            ],
            "source": [
                "q0, q1, q2 = cirq.LineQubit.range(3)\n",
                "print(cirq.Circuit(cirq.decompose(cirq.TOFFOLI(q0, q1, q2))))"
            ]
        },
        {
            "cell_type": "markdown",
            "metadata": {
                "id": "VWcik4ZwggXj"
            },
            "source": [
                "The above decomposes the Toffoli into a simpler set of one-qubit gates and CZ gates at the cost of lengthening the circuit considerably."
            ]
        },
        {
            "cell_type": "markdown",
            "metadata": {
                "id": "rIUbvdVQkHbX"
            },
            "source": [
                "### Transformers\n",
                "\n",
                "The last concept in this tutorial is the transformer.  An transformer can take a circuit and modify it.  Usually, this will entail combining or modifying operations to make it more efficient and shorter, though an transformer can, in theory, do any sort of circuit manipulation.\n",
                "\n",
                "For example, the `cirq.merge_single_qubit_gates_to_phxz` transformer will take consecutive single-qubit operations and merge them into a single `PhasedXZ` operation."
            ]
        },
        {
            "cell_type": "code",
            "execution_count": 15,
            "metadata": {
                "id": "5WvfOdaG5C_6"
            },
            "outputs": [
                {
                    "name": "stdout",
                    "output_type": "stream",
                    "text": [
                        "(1, 1): ───X^0.25───Y^0.25───T───\n",
                        "(1, 1): ───PhXZ(a=0.304,x=0.333,z=0.142)───\n"
                    ]
                }
            ],
            "source": [
                "q=cirq.GridQubit(1, 1)\n",
                "c=cirq.Circuit(cirq.X(q) ** 0.25, cirq.Y(q) ** 0.25, cirq.Z(q) ** 0.25)\n",
                "print(c)\n",
                "c = cirq.merge_single_qubit_gates_to_phxz(c)\n",
                "print(c)"
            ]
        },
        {
            "cell_type": "markdown",
            "metadata": {
                "id": "xRfQqzdx7lUI"
            },
            "source": [
                "Other transformers can assist in transforming a circuit into operations that are native operations on specific hardware devices.  You can find more about transformers and how to create your own elsewhere in the documentation."
            ]
        },
        {
            "cell_type": "markdown",
            "metadata": {
                "id": "8QbTGmKlYT4i"
            },
            "source": [
                "## Next steps\n",
                "\n",
                "After completing this tutorial, you should be able to use gates and operations to construct your own quantum circuits, simulate them, and to use sweeps.  It should give you a brief idea of the commonly used \n",
                "\n",
                "There is much more to learn and try out for those who are interested:\n",
                "\n",
                "* Learn about the variety of [Gates](../gates.ipynb) available in cirq and more about the different ways to construct [Circuits](../circuits.ipynb)\n",
                "* Learn more about [Simulations](../simulation.ipynb) and how it works.\n",
                "* Learn about [Noise](../noise.ipynb) and how to utilize multi-level systems using [Qudits](../qudits.ipynb)\n",
                "* Dive into some [Examples](_index.yaml) and some in-depth tutorials of how to use cirq.\n",
                "\n",
                "Also, join our [cirq-announce mailing list](https://groups.google.com/forum/#!forum/cirq-announce) to hear about changes and releases or go to the [cirq github](https://github.com/quantumlib/Cirq/) to file issues."
            ]
        },
        {
            "cell_type": "code",
            "execution_count": 46,
            "metadata": {},
            "outputs": [],
            "source": [
                "# pylint: disable=wrong-or-nonexistent-copyright-notice\n",
                "\"\"\"Demonstrates Shor's algorithm.\n",
                "\n",
                "Shor's algorithm [1] is a quantum algorithm for integer factorization. Given\n",
                "a composite integer n, it finds its non-trivial factor d, i.e. a factor other\n",
                "than 1 or n.\n",
                "\n",
                "The algorithm consists of two parts: quantum order-finding subroutine and\n",
                "classical probabilistic reduction of the factoring problem to the order-\n",
                "finding problem. Given two positive integers x and n, the order-finding\n",
                "problem asks for the smallest positive integer r such that x**r mod n == 1.\n",
                "\n",
                "The classical reduction algorithm first handles two corner cases which do\n",
                "not rely on quantum computation: when n is even or a prime power. For other\n",
                "n, the algorithm first draws a random x uniformly from 2..n-1 and then uses\n",
                "the quantum order-finding subroutine to compute the order r of x modulo n,\n",
                "i.e. it finds the smallest positive integer r such that x**r == 1 mod n. Now,\n",
                "if r is even, then y = x**(r/2) is a solution to the equation\n",
                "\n",
                "    y**2 == 1 mod n.                                                   (*)\n",
                "\n",
                "It's easy to see that in this case gcd(y - 1, n) or gcd(y + 1, n) divides n.\n",
                "If in addition y is a non-trivial solution, i.e. if it is not equal to -1,\n",
                "then gcd(y - 1, n) or gcd(y + 1, n) is a non-trivial factor of n (note that\n",
                "y cannot be 1). If r is odd or if y is a trivial solution of (*), then the\n",
                "algorithm is repeated for a different random x.\n",
                "\n",
                "It turns out [1] that the probability of r being even and y = x**(r/2) being\n",
                "a non-trivial solution of equation (*) is at least 1 - 1/2**(k - 1) where k\n",
                "is the number of distinct prime factors of n. Since the case k = 1 has been\n",
                "handled by the classical part, we have k >= 2 and the success probability of\n",
                "a single attempt is at least 1/2.\n",
                "\n",
                "The subroutine for finding the order r of a number x modulo n consists of two\n",
                "steps. In the first step, Quantum Phase Estimation is applied to a unitary such\n",
                "as\n",
                "\n",
                "    U|y⟩ = |xy mod n⟩  0 <= y < n\n",
                "    U|y⟩ = |y⟩         n =< y\n",
                "\n",
                "whose eigenvalues are s/r for s = 0, 1, ..., r - 1. In the second step, the\n",
                "classical continued fractions algorithm is used to recover r from s/r. Note\n",
                "that when gcd(s, r) > 1 then an incorrect r is found. This can be detected\n",
                "by verifying that r is indeed the order of x. If it is not, Quantum Phase\n",
                "Estimation algorithm is retried.\n",
                "\n",
                "[1]: https://arxiv.org/abs/quant-ph/9508027\n",
                "\"\"\"\n",
                "\n",
                "import argparse\n",
                "import fractions\n",
                "import math\n",
                "import random\n",
                "\n",
                "from typing import Callable, List, Optional, Sequence, Union\n",
                "\n",
                "import sympy\n",
                "\n",
                "import cirq\n",
                "\n",
                "parser = argparse.ArgumentParser(description='Factorization demo.')\n",
                "parser.add_argument('n', type=int, help='composite integer to factor')\n",
                "parser.add_argument(\n",
                "    '--order_finder',\n",
                "    type=str,\n",
                "    choices=('naive', 'quantum'),\n",
                "    default='naive',\n",
                "    help=(\n",
                "        'order finder to use; must be either \"naive\" '\n",
                "        'for a naive classical algorithm or \"quantum\" '\n",
                "        'for a quantum circuit; note that in practice '\n",
                "        '\"quantum\" is substantially slower since it '\n",
                "        'incurs the overhead of classical simulation.'\n",
                "    ),\n",
                ")\n",
                "\n",
                "\n",
                "def naive_order_finder(x: int, n: int) -> Optional[int]:\n",
                "    \"\"\"Computes smallest positive r such that x**r mod n == 1.\n",
                "\n",
                "    Args:\n",
                "        x: integer whose order is to be computed, must be greater than one\n",
                "           and belong to the multiplicative group of integers modulo n (which\n",
                "           consists of positive integers relatively prime to n),\n",
                "        n: modulus of the multiplicative group.\n",
                "\n",
                "    Returns:\n",
                "        Smallest positive integer r such that x**r == 1 mod n.\n",
                "        Always succeeds (and hence never returns None).\n",
                "\n",
                "    Raises:\n",
                "        ValueError: When x is 1 or not an element of the multiplicative\n",
                "            group of integers modulo n.\n",
                "    \"\"\"\n",
                "    if x < 2 or n <= x or math.gcd(x, n) > 1:\n",
                "        raise ValueError(f'Invalid x={x} for modulus n={n}.')\n",
                "    r, y = 1, x\n",
                "    while y != 1:\n",
                "        y = (x * y) % n\n",
                "        r += 1\n",
                "    return r\n",
                "\n",
                "\n",
                "class ModularExp(cirq.ArithmeticOperation):\n",
                "    \"\"\"Quantum modular exponentiation.\n",
                "\n",
                "    This class represents the unitary which multiplies base raised to exponent\n",
                "    into the target modulo the given modulus. More precisely, it represents the\n",
                "    unitary V which computes modular exponentiation x**e mod n:\n",
                "\n",
                "        V|y⟩|e⟩ = |y * x**e mod n⟩ |e⟩     0 <= y < n\n",
                "        V|y⟩|e⟩ = |y⟩ |e⟩                  n <= y\n",
                "\n",
                "    where y is the target register, e is the exponent register, x is the base\n",
                "    and n is the modulus. Consequently,\n",
                "\n",
                "        V|y⟩|e⟩ = (U**e|r⟩)|e⟩\n",
                "\n",
                "    where U is the unitary defined as\n",
                "\n",
                "        U|y⟩ = |y * x mod n⟩      0 <= y < n\n",
                "        U|y⟩ = |y⟩                n <= y\n",
                "\n",
                "    in the header of this file.\n",
                "\n",
                "    Quantum order finding algorithm (which is the quantum part of the Shor's\n",
                "    algorithm) uses quantum modular exponentiation together with the Quantum\n",
                "    Phase Estimation to compute the order of x modulo n.\n",
                "    \"\"\"\n",
                "\n",
                "    def __init__(\n",
                "        self,\n",
                "        target: Sequence[cirq.Qid],\n",
                "        exponent: Union[int, Sequence[cirq.Qid]],\n",
                "        base: int,\n",
                "        modulus: int,\n",
                "    ) -> None:\n",
                "        if len(target) < modulus.bit_length():\n",
                "            raise ValueError(\n",
                "                f'Register with {len(target)} qubits is too small for modulus {modulus}'\n",
                "            )\n",
                "        self.target = target\n",
                "        self.exponent = exponent\n",
                "        self.base = base\n",
                "        self.modulus = modulus\n",
                "\n",
                "    def registers(self) -> Sequence[Union[int, Sequence[cirq.Qid]]]:\n",
                "        return self.target, self.exponent, self.base, self.modulus\n",
                "\n",
                "    def with_registers(self, *new_registers: Union[int, Sequence['cirq.Qid']]) -> 'ModularExp':\n",
                "        if len(new_registers) != 4:\n",
                "            raise ValueError(\n",
                "                f'Expected 4 registers (target, exponent, base, '\n",
                "                f'modulus), but got {len(new_registers)}'\n",
                "            )\n",
                "        target, exponent, base, modulus = new_registers\n",
                "        if not isinstance(target, Sequence):\n",
                "            raise ValueError(f'Target must be a qubit register, got {type(target)}')\n",
                "        if not isinstance(base, int):\n",
                "            raise ValueError(f'Base must be a classical constant, got {type(base)}')\n",
                "        if not isinstance(modulus, int):\n",
                "            raise ValueError(f'Modulus must be a classical constant, got {type(modulus)}')\n",
                "        return ModularExp(target, exponent, base, modulus)\n",
                "\n",
                "    def apply(self, *register_values: int) -> int:\n",
                "        assert len(register_values) == 4\n",
                "        target, exponent, base, modulus = register_values\n",
                "        if target >= modulus:\n",
                "            return target\n",
                "        return (target * base**exponent) % modulus\n",
                "\n",
                "    def _circuit_diagram_info_(self, args: cirq.CircuitDiagramInfoArgs) -> cirq.CircuitDiagramInfo:\n",
                "        assert args.known_qubits is not None\n",
                "        wire_symbols: List[str] = []\n",
                "        t, e = 0, 0\n",
                "        for qubit in args.known_qubits:\n",
                "            if qubit in self.target:\n",
                "                if t == 0:\n",
                "                    if isinstance(self.exponent, Sequence):\n",
                "                        e_str = 'e'\n",
                "                    else:\n",
                "                        e_str = str(self.exponent)\n",
                "                    wire_symbols.append(f'ModularExp(t*{self.base}**{e_str} % {self.modulus})')\n",
                "                else:\n",
                "                    wire_symbols.append('t' + str(t))\n",
                "                t += 1\n",
                "            if isinstance(self.exponent, Sequence) and qubit in self.exponent:\n",
                "                wire_symbols.append('e' + str(e))\n",
                "                e += 1\n",
                "        return cirq.CircuitDiagramInfo(wire_symbols=tuple(wire_symbols))\n",
                "\n",
                "\n",
                "def make_order_finding_circuit(x: int, n: int) -> cirq.Circuit:\n",
                "    \"\"\"Returns quantum circuit which computes the order of x modulo n.\n",
                "\n",
                "    The circuit uses Quantum Phase Estimation to compute an eigenvalue of\n",
                "    the unitary\n",
                "\n",
                "        U|y⟩ = |y * x mod n⟩      0 <= y < n\n",
                "        U|y⟩ = |y⟩                n <= y\n",
                "\n",
                "    discussed in the header of this file. The circuit uses two registers:\n",
                "    the target register which is acted on by U and the exponent register\n",
                "    from which an eigenvalue is read out after measurement at the end. The\n",
                "    circuit consists of three steps:\n",
                "\n",
                "    1. Initialization of the target register to |0..01⟩ and the exponent\n",
                "       register to a superposition state.\n",
                "    2. Multiple controlled-U**2**j operations implemented efficiently using\n",
                "       modular exponentiation.\n",
                "    3. Inverse Quantum Fourier Transform to kick an eigenvalue to the\n",
                "       exponent register.\n",
                "\n",
                "    Args:\n",
                "        x: positive integer whose order modulo n is to be found\n",
                "        n: modulus relative to which the order of x is to be found\n",
                "\n",
                "    Returns:\n",
                "        Quantum circuit for finding the order of x modulo n\n",
                "    \"\"\"\n",
                "    L = n.bit_length()\n",
                "    target = cirq.LineQubit.range(L)\n",
                "    exponent = cirq.LineQubit.range(L, 3 * L + 3)\n",
                "    return cirq.Circuit(\n",
                "        cirq.X(target[L - 1]),\n",
                "        cirq.H.on_each(*exponent),\n",
                "        ModularExp(target, exponent, x, n),\n",
                "        cirq.qft(*exponent, inverse=True),\n",
                "        cirq.measure(*exponent, key='exponent'),\n",
                "    )\n",
                "\n",
                "\n",
                "def read_eigenphase(result: cirq.Result) -> float:\n",
                "    \"\"\"Interprets the output of the order finding circuit.\n",
                "\n",
                "    Specifically, it returns s/r such that exp(2πis/r) is an eigenvalue\n",
                "    of the unitary\n",
                "\n",
                "        U|y⟩ = |xy mod n⟩  0 <= y < n\n",
                "        U|y⟩ = |y⟩         n <= y\n",
                "\n",
                "    described in the header of this file.\n",
                "\n",
                "    Args:\n",
                "        result: trial result obtained by sampling the output of the\n",
                "            circuit built by make_order_finding_circuit\n",
                "\n",
                "    Returns:\n",
                "        s/r where r is the order of x modulo n and s is in [0..r-1].\n",
                "    \"\"\"\n",
                "    exponent_as_integer = result.data['exponent'][0]\n",
                "    exponent_num_bits = result.measurements['exponent'].shape[1]\n",
                "    return float(exponent_as_integer / 2**exponent_num_bits)\n",
                "\n",
                "\n",
                "def quantum_order_finder(x: int, n: int) -> Optional[int]:\n",
                "    \"\"\"Computes smallest positive r such that x**r mod n == 1.\n",
                "\n",
                "    Args:\n",
                "        x: integer whose order is to be computed, must be greater than one\n",
                "           and belong to the multiplicative group of integers modulo n (which\n",
                "           consists of positive integers relatively prime to n),\n",
                "        n: modulus of the multiplicative group.\n",
                "\n",
                "    Returns:\n",
                "        Smallest positive integer r such that x**r == 1 mod n or None if the\n",
                "        algorithm failed. The algorithm fails when the result of the Quantum\n",
                "        Phase Estimation is inaccurate, zero or a reducible fraction.\n",
                "\n",
                "    Raises:\n",
                "        ValueError: When x is 1 or not an element of the multiplicative\n",
                "            group of integers modulo n.\n",
                "    \"\"\"\n",
                "    if x < 2 or n <= x or math.gcd(x, n) > 1:\n",
                "        raise ValueError(f'Invalid x={x} for modulus n={n}.')\n",
                "\n",
                "    circuit = make_order_finding_circuit(x, n)\n",
                "    result = cirq.sample(circuit)\n",
                "    eigenphase = read_eigenphase(result)\n",
                "    f = fractions.Fraction.from_float(eigenphase).limit_denominator(n)\n",
                "    if f.numerator == 0:\n",
                "        return None  # coverage: ignore\n",
                "    r = f.denominator\n",
                "    if x**r % n != 1:\n",
                "        return None  # coverage: ignore\n",
                "    return r\n",
                "\n",
                "\n",
                "def find_factor_of_prime_power(n: int) -> Optional[int]:\n",
                "    \"\"\"Returns non-trivial factor of n if n is a prime power, else None.\"\"\"\n",
                "    for k in range(2, math.floor(math.log2(n)) + 1):\n",
                "        c = math.pow(n, 1 / k)\n",
                "        c1 = math.floor(c)\n",
                "        if c1**k == n:\n",
                "            return c1\n",
                "        c2 = math.ceil(c)\n",
                "        if c2**k == n:\n",
                "            return c2\n",
                "    return None\n",
                "\n",
                "\n",
                "def find_factor(\n",
                "    n: int, order_finder: Callable[[int, int], Optional[int]], max_attempts: int = 30\n",
                ") -> Optional[int]:\n",
                "    \"\"\"Returns a non-trivial factor of composite integer n.\n",
                "\n",
                "    Args:\n",
                "        n: integer to factorize,\n",
                "        order_finder: function for finding the order of elements of the\n",
                "            multiplicative group of integers modulo n,\n",
                "        max_attempts: number of random x's to try, also an upper limit\n",
                "            on the number of order_finder invocations.\n",
                "\n",
                "    Returns:\n",
                "        Non-trivial factor of n or None if no such factor was found.\n",
                "        Factor k of n is trivial if it is 1 or n.\n",
                "    \"\"\"\n",
                "    if sympy.isprime(n):\n",
                "        return None\n",
                "    if n % 2 == 0:\n",
                "        return 2\n",
                "    c = find_factor_of_prime_power(n)\n",
                "    if c is not None:\n",
                "        return c\n",
                "    for _ in range(max_attempts):\n",
                "        x = random.randint(2, n - 1)\n",
                "        c = math.gcd(x, n)\n",
                "        if 1 < c < n:\n",
                "            return c  # coverage: ignore\n",
                "        r = order_finder(x, n)\n",
                "        if r is None:\n",
                "            continue  # coverage: ignore\n",
                "        if r % 2 != 0:\n",
                "            continue  # coverage: ignore\n",
                "        y = x ** (r // 2) % n\n",
                "        assert 1 < y < n\n",
                "        c = math.gcd(y - 1, n)\n",
                "        if 1 < c < n:\n",
                "            return c\n",
                "    return None  # coverage: ignore\n",
                "\n",
                "\n",
                "def main(n: int, order_finder: Callable[[int, int], Optional[int]] = naive_order_finder):\n",
                "    if n < 2:\n",
                "        raise ValueError(f'Invalid input {n}, expected positive integer greater than one.')\n",
                "\n",
                "    d = find_factor(n, order_finder)\n",
                "\n",
                "    if d is None:\n",
                "        print(f'No non-trivial factor of {n} found. It is probably a prime.')\n",
                "    else:\n",
                "        print(f'{d} is a non-trivial factor of {n}')\n",
                "\n",
                "        assert 1 < d < n\n",
                "        assert n % d == 0"
            ]
        },
        {
            "cell_type": "code",
            "execution_count": 53,
            "metadata": {},
            "outputs": [
                {
                    "name": "stdout",
                    "output_type": "stream",
                    "text": [
                        "Factoring n = pq = 20000\n",
                        "p = 2\n",
                        "q = 10000\n"
                    ]
                }
            ],
            "source": [
                "\"\"\"Example of factoring via Shor's algorithm (order finding).\"\"\"\n",
                "# Number to factor\n",
                "n = 20000\n",
                "\n",
                "# Attempt to find a factor\n",
                "p = find_factor(n, order_finder=quantum_order_finder)\n",
                "q = n // p\n",
                "\n",
                "print(\"Factoring n = pq =\", n)\n",
                "print(\"p =\", p)\n",
                "print(\"q =\", q)"
            ]
        }
    ],
    "metadata": {
        "colab": {
            "collapsed_sections": [],
            "name": "basics.ipynb",
            "toc_visible": true
        },
        "kernelspec": {
            "display_name": "Python 3",
            "name": "python3"
        },
        "language_info": {
            "codemirror_mode": {
                "name": "ipython",
                "version": 3
            },
            "file_extension": ".py",
            "mimetype": "text/x-python",
            "name": "python",
            "nbconvert_exporter": "python",
            "pygments_lexer": "ipython3",
            "version": "3.8.9"
        }
    },
    "nbformat": 4,
    "nbformat_minor": 0
}
